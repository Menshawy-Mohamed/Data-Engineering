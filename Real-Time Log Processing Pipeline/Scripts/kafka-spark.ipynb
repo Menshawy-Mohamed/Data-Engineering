{
 "cells": [
  {
   "cell_type": "code",
   "execution_count": 1,
   "metadata": {},
   "outputs": [],
   "source": [
    "import os\n",
    "# Set the exact package versions for Spark 3.0.1\n",
    "os.environ['PYSPARK_SUBMIT_ARGS'] = '--packages org.apache.spark:spark-sql-kafka-0-10_2.12:3.0.1,org.apache.kafka:kafka-clients:2.4.1 pyspark-shell'\n",
    "\n",
    "# Then create your SparkSession\n",
    "from pyspark.sql import SparkSession\n",
    "\n",
    "spark = SparkSession \\\n",
    "    .builder \\\n",
    "    .appName(\"ApacheLogAnalysis\") \\\n",
    "    .config(\"spark.streaming.stopGracefullyOnShutdown\", \"true\") \\\n",
    "    .getOrCreate()"
   ]
  },
  {
   "cell_type": "code",
   "execution_count": 2,
   "metadata": {},
   "outputs": [],
   "source": [
    "# Import necessary libraries\n",
    "from pyspark.sql import SparkSession\n",
    "from pyspark.sql.functions import col, regexp_extract, window, count, current_timestamp\n",
    "from pyspark.sql.types import StringType, IntegerType\n",
    "\n",
    "# Initialize Spark Session \n",
    "spark = SparkSession \\\n",
    "    .builder \\\n",
    "    .appName(\"ApacheLogAnalysis60SecIntervals\") \\\n",
    "    .config(\"spark.streaming.stopGracefullyOnShutdown\", \"true\") \\\n",
    "    .getOrCreate()\n",
    "\n",
    "# Set log level to reduce notebook output noise\n",
    "spark.sparkContext.setLogLevel(\"WARN\")\n",
    "\n",
    "# Read streaming data from Kafka\n",
    "kafka_df = spark \\\n",
    "    .readStream \\\n",
    "    .format(\"kafka\") \\\n",
    "    .option(\"kafka.bootstrap.servers\", \"localhost:9092\") \\\n",
    "    .option(\"subscribe\", \"pykafka\") \\\n",
    "    .option(\"startingOffsets\", \"latest\") \\\n",
    "    .load()"
   ]
  },
  {
   "cell_type": "code",
   "execution_count": 7,
   "metadata": {},
   "outputs": [],
   "source": [
    "# Parse Kafka value\n",
    "parsed_df = kafka_df.selectExpr(\"CAST(value AS STRING) as log_line\")\n",
    "\n",
    "logs_df = parsed_df \\\n",
    "\t.withColumn(\"ip\", regexp_extract(col(\"log_line\"), r'^([\\d.]+)', 1)) \\\n",
    "\t.withColumn(\"timestamp\", regexp_extract(col(\"log_line\"), r'\\[(.*?)\\]', 1)) \\\n",
    "\t.withColumn(\"method\", regexp_extract(col(\"log_line\"), r'\"(\\w+) ', 1)) \\\n",
    "\t.withColumn(\"url\", regexp_extract(col(\"log_line\"), r'\"(?:\\w+) (\\S+)(?: HTTP/\\d\\.\\d)?', 1)) \\\n",
    "\t.withColumn(\"status\", regexp_extract(col(\"log_line\"), r' (\\d{3}) ', 1).cast(\"integer\")) \\\n",
    "\t.withColumn(\"size\", regexp_extract(col(\"log_line\"), r' (\\d+) ', 1).cast(\"integer\")) \\\n",
    "\t.withColumn(\"user_agent\", regexp_extract(col(\"log_line\"), r'\"([^\"]+)\"$', 1))\n",
    "\n",
    "\n",
    "\n",
    "final_df = logs_df.select(\n",
    "\t\"ip\",\n",
    "\t\"timestamp\",\n",
    "\t\"method\",\n",
    "\t\"url\",\n",
    "\t\"status\",\n",
    "\t\"size\",\n",
    "\t\"user_agent\"\n",
    ")"
   ]
  },
  {
   "cell_type": "code",
   "execution_count": null,
   "metadata": {},
   "outputs": [],
   "source": [
    "# Output to console\n",
    "query = final_df.writeStream \\\n",
    "    .outputMode(\"append\") \\\n",
    "    .format(\"console\") \\\n",
    "    .option(\"truncate\", False) \\\n",
    "    .start()\n",
    "\n",
    "query.awaitTermination()"
   ]
  },
  {
   "cell_type": "code",
   "execution_count": null,
   "metadata": {},
   "outputs": [],
   "source": []
  }
 ],
 "metadata": {
  "kernelspec": {
   "display_name": "Python 3",
   "language": "python",
   "name": "python3"
  },
  "language_info": {
   "codemirror_mode": {
    "name": "ipython",
    "version": 3
   },
   "file_extension": ".py",
   "mimetype": "text/x-python",
   "name": "python",
   "nbconvert_exporter": "python",
   "pygments_lexer": "ipython3",
   "version": "3.7.4"
  }
 },
 "nbformat": 4,
 "nbformat_minor": 2
}
